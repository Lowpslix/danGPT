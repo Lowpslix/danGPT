{
 "cells": [
  {
   "cell_type": "code",
   "execution_count": null,
   "id": "f9ce6c2e-b671-4ea2-b2ea-24448006a42d",
   "metadata": {
    "scrolled": true
   },
   "outputs": [],
   "source": [
    "! pip install pypdf\n",
    "! pip install langchain\n",
    "! pip install pinecone-client\n",
    "! pip install openai"
   ]
  },
  {
   "cell_type": "code",
   "execution_count": 14,
   "id": "f103a60f-77bc-4206-bf2f-49e9a6669288",
   "metadata": {},
   "outputs": [
    {
     "name": "stdout",
     "output_type": "stream",
     "text": [
      "success\n"
     ]
    }
   ],
   "source": [
    "from langchain.embeddings.openai import OpenAIEmbeddings\n",
    "\n",
    "OPENAI_API_KEY = \"API_KEY_HERE\"\n",
    "model_name = 'text-embedding-ada-002'\n",
    "\n",
    "embed = OpenAIEmbeddings(\n",
    "    model=model_name,\n",
    "    openai_api_key=OPENAI_API_KEY\n",
    ")"
   ]
  },
  {
   "cell_type": "code",
   "execution_count": 16,
   "id": "3ed7c138-c6f9-4dec-8cb4-3d3106a8c813",
   "metadata": {},
   "outputs": [],
   "source": [
    "import pinecone\n",
    "\n",
    "api_key = \"API_KEY\"\n",
    "PINECONE_ENV = \"us-west4-gcp-free\"\n",
    "index_name = 'INDEX_NAME'\n",
    "\n",
    "pinecone.init(\n",
    "    api_key=api_key,\n",
    "    environment=PINECONE_ENV\n",
    ")\n",
    "\n",
    "if index_name not in pinecone.list_indexes():\n",
    "    # we create a new index\n",
    "    pinecone.create_index(\n",
    "        name=index_name,\n",
    "        metric='cosine',\n",
    "        dimension=1536  # 1536 dim of text-embedding-ada-002\n",
    "    )"
   ]
  },
  {
   "cell_type": "code",
   "execution_count": 29,
   "id": "9ff33941-154f-4e47-b29f-7905c3fca21a",
   "metadata": {},
   "outputs": [],
   "source": [
    "from langchain.document_loaders import PyPDFDirectoryLoader\n",
    "from langchain.text_splitter import RecursiveCharacterTextSplitter\n",
    "import os\n",
    "\n",
    "loader = PyPDFDirectoryLoader(\"books\")\n",
    "data = loader.load()\n",
    "text_splitter = RecursiveCharacterTextSplitter(chunk_size=1000, chunk_overlap=0)\n",
    "docs = text_splitter.split_documents(data)"
   ]
  },
  {
   "cell_type": "code",
   "execution_count": null,
   "id": "958cca81-7265-437b-aee0-a9b3e9ad6c2a",
   "metadata": {},
   "outputs": [],
   "source": [
    "from langchain.vectorstores import Pinecone\n",
    "\n",
    "testingIndex = Pinecone.from_documents(docs, embed, index_name=index_name)"
   ]
  },
  {
   "cell_type": "code",
   "execution_count": null,
   "id": "a61101f7-f9b8-45c9-9515-aa5ec2a3fc0a",
   "metadata": {},
   "outputs": [],
   "source": [
    "query = \"What is mental accounting?\"\n",
    "testingIndex.similarity_search(\n",
    "    query,  # our search query\n",
    "    k=3  # return 3 most relevant docs\n",
    ")[0].page_content.replace('\\t', ' ')"
   ]
  },
  {
   "cell_type": "code",
   "execution_count": null,
   "id": "84b9e08c-71e2-476f-8baf-6fcd857ef2fe",
   "metadata": {},
   "outputs": [],
   "source": []
  }
 ],
 "metadata": {
  "kernelspec": {
   "display_name": "Python 3 (ipykernel)",
   "language": "python",
   "name": "python3"
  },
  "language_info": {
   "codemirror_mode": {
    "name": "ipython",
    "version": 3
   },
   "file_extension": ".py",
   "mimetype": "text/x-python",
   "name": "python",
   "nbconvert_exporter": "python",
   "pygments_lexer": "ipython3",
   "version": "3.11.3"
  }
 },
 "nbformat": 4,
 "nbformat_minor": 5
}
